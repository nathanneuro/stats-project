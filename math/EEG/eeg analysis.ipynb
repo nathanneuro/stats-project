{
 "cells": [
  {
   "cell_type": "code",
   "execution_count": null,
   "metadata": {
    "collapsed": true
   },
   "outputs": [],
   "source": [
    "# Daubechies db4 wavelet to decompose cleaned baseline EEG \n",
    "# pywavelet can do that\n",
    "# import pywt\n",
    "\n",
    "# trace-line length per window for sliding windows indicates activity within window\n",
    "# activity above a certain threshold generally indicates seizure activity (lots of spikes)\n"
   ]
  }
 ],
 "metadata": {
  "kernelspec": {
   "display_name": "Python 3",
   "language": "python",
   "name": "python3"
  },
  "language_info": {
   "codemirror_mode": {
    "name": "ipython",
    "version": 3
   },
   "file_extension": ".py",
   "mimetype": "text/x-python",
   "name": "python",
   "nbconvert_exporter": "python",
   "pygments_lexer": "ipython3",
   "version": "3.4.3"
  }
 },
 "nbformat": 4,
 "nbformat_minor": 0
}
