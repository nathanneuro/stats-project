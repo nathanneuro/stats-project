{
 "cells": [
  {
   "cell_type": "code",
   "execution_count": 1,
   "metadata": {
    "collapsed": true
   },
   "outputs": [],
   "source": [
    "import pandas as pd\n",
    "import numpy as np"
   ]
  },
  {
   "cell_type": "code",
   "execution_count": 2,
   "metadata": {
    "collapsed": false,
    "scrolled": true
   },
   "outputs": [
    {
     "name": "stderr",
     "output_type": "stream",
     "text": [
      "/Users/nathanhelm-burger/.pyenv/versions/venv34math/lib/python3.4/site-packages/ipykernel/__main__.py:1: ParserWarning: Falling back to the 'python' engine because the 'c' engine does not support regex separators; you can avoid this warning by specifying engine='python'.\n",
      "  if __name__ == '__main__':\n"
     ]
    }
   ],
   "source": [
    "df3 = pd.read_csv('comboSample.txt', sep=r'\\t')"
   ]
  },
  {
   "cell_type": "code",
   "execution_count": 3,
   "metadata": {
    "collapsed": true
   },
   "outputs": [],
   "source": [
    "import nltk"
   ]
  },
  {
   "cell_type": "code",
   "execution_count": 6,
   "metadata": {
    "collapsed": false,
    "scrolled": true
   },
   "outputs": [
    {
     "name": "stdout",
     "output_type": "stream",
     "text": [
      "This is a great truck GPS. I've tried others and nothing seems to come close to the Rand McNally TND-700.Excellent screen size and resolution. The audio is loud enough to be heard over road noise and the purr of my Kenworth/Cat engine. I've used it for the last 8,000 miles or so and it has only glitched once. Just restarted it and it picked up on my route right where it should have. The exit lane screen has been spot on every time and gives me plenty of time to get my rig into the appropriate lane safely. I also love the multi-stop route planning and use it a lot. Updated regularly, it has shown me all the construction zones and has a feature to allow me to detour around them. Creating Groups and storing locations in them is a breeze so I can separate warehouse from store locations, etc.I'm running an HP Pavilion laptop with Windows 7 OS for the dock and update. The USB port DOES charge the GPS, at least with my laptop, despite the warning in a previous review. Even if it didn't, the supplied 12-volt and AC chargers take care of getting the battery up to speed.My complaints are relatively minor:Battery life when it is unplugged isn't great. However, since I use it plugged in in the cab 95% of the time, it doesn't create too much of a problem.The announcement of state borders coming up is nice but it doesn't tell you (or show you on the map display) what state you are in and/or going into. Again, a minor issue because I know where I am but all my other GPS units had this feature. For $500 smackers, I don't expect this kind of slip-up.There is a Micro SD slot on the unit and I bought a card for it. Unfortunately, the manual has absolutely no information on using it. The only reference is on the page showing the physical features of the unit, showing the position of the slot. Annoying.Clean up the minor issues and this unit rates a solid 5.Rand McNally 528881469 7-inch Intelliroute TND 700 Truck GPS\n"
     ]
    }
   ],
   "source": [
    "print(df3['reviewText'][15])"
   ]
  },
  {
   "cell_type": "code",
   "execution_count": null,
   "metadata": {
    "collapsed": true
   },
   "outputs": [],
   "source": []
  }
 ],
 "metadata": {
  "kernelspec": {
   "display_name": "Python 3",
   "language": "python",
   "name": "python3"
  },
  "language_info": {
   "codemirror_mode": {
    "name": "ipython",
    "version": 3
   },
   "file_extension": ".py",
   "mimetype": "text/x-python",
   "name": "python",
   "nbconvert_exporter": "python",
   "pygments_lexer": "ipython3",
   "version": "3.4.3"
  }
 },
 "nbformat": 4,
 "nbformat_minor": 0
}
